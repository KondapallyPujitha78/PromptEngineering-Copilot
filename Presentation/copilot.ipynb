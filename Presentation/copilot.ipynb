{
 "cells": [
  {
   "cell_type": "markdown",
   "id": "5dde8f16",
   "metadata": {},
   "source": [
    "You are a Python Developer. Build a simple command line style tool in Python to work with CSV files in the first cell of copilot.ipynb\n",
    "\n",
    "Features:\n",
    "- `--convert` : Convert CSV to JSON\n",
    "- `--print`   : Pretty print as JSON\n",
    "- `--table`   : Display as ASCII table\n",
    "- Later: add filtering, summaries"
   ]
  },
  {
   "cell_type": "code",
   "execution_count": 5,
   "id": "f667d9a2",
   "metadata": {},
   "outputs": [],
   "source": [
    "# Simple CLI tool for CSV files: --convert, --print, --table\n",
    "import argparse\n",
    "import csv\n",
    "import json\n",
    "from tabulate import tabulate\n",
    "import sys\n",
    "\n",
    "def read_csv(file_path):\n",
    "    with open(file_path, newline='', encoding='utf-8') as f:\n",
    "        reader = csv.DictReader(f)\n",
    "        return list(reader)\n",
    "\n",
    "def convert_to_json(data, out_path=None):\n",
    "    json_str = json.dumps(data, indent=2, ensure_ascii=False)\n",
    "    if out_path:\n",
    "        with open(out_path, 'w', encoding='utf-8') as f:\n",
    "            f.write(json_str)\n",
    "    else:\n",
    "        print(json_str)\n",
    "\n",
    "def pretty_print_json(data):\n",
    "    print(json.dumps(data, indent=2, ensure_ascii=False))\n",
    "\n",
    "def print_table(data):\n",
    "    if not data:\n",
    "        print('No data to display.')\n",
    "        return\n",
    "    print(tabulate(data, headers='keys', tablefmt='grid'))\n",
    "\n",
    "def main():\n",
    "    parser = argparse.ArgumentParser(description='CSV Utility Tool')\n",
    "    parser.add_argument('csvfile', help='Path to CSV file')\n",
    "    parser.add_argument('--convert', metavar='OUT', help='Convert CSV to JSON and save to OUT')\n",
    "    parser.add_argument('--print', action='store_true', help='Pretty print CSV as JSON')\n",
    "    parser.add_argument('--table', action='store_true', help='Display CSV as ASCII table')\n",
    "    args = parser.parse_args()\n",
    "\n",
    "    data = read_csv(args.csvfile)\n",
    "\n",
    "    if args.convert:\n",
    "        convert_to_json(data, args.convert)\n",
    "    if args.print:\n",
    "        pretty_print_json(data)\n",
    "    if args.table:\n",
    "        print_table(data)\n",
    "    if not (args.convert or args.print or args.table):\n",
    "        parser.print_help()\n",
    "        \n",
    "# To use in notebook, you can call main() with sys.argv set, or copy this to a .py file and run from command line.\n",
    "# Example usage:\n",
    "#   python CLIUtility.py data.csv --convert out.json\n",
    "#   python CLIUtility.py data.csv --print\n",
    "#   python CLIUtility.py data.csv --table"
   ]
  },
  {
   "cell_type": "markdown",
   "id": "d2c2fb38",
   "metadata": {},
   "source": [
    "Create a small CSV file called data.csv with columns: name, age, city.\n",
    "Include 5 rows of realistic data.\n"
   ]
  },
  {
   "cell_type": "code",
   "execution_count": 7,
   "id": "e7edba3a",
   "metadata": {},
   "outputs": [
    {
     "name": "stdout",
     "output_type": "stream",
     "text": [
      "+---------+-------+---------------+\n",
      "| name    |   age | city          |\n",
      "+=========+=======+===============+\n",
      "| Alice   |    30 | New York      |\n",
      "+---------+-------+---------------+\n",
      "| Bob     |    25 | San Francisco |\n",
      "+---------+-------+---------------+\n",
      "| Charlie |    35 | Chicago       |\n",
      "+---------+-------+---------------+\n",
      "| Diana   |    28 | Seattle       |\n",
      "+---------+-------+---------------+\n",
      "| Ethan   |    40 | Boston        |\n",
      "+---------+-------+---------------+\n"
     ]
    }
   ],
   "source": [
    "if __name__ == '__main__':\n",
    "    sys.argv = ['script.py', 'data.csv', '--table']\n",
    "    main()\n"
   ]
  },
  {
   "cell_type": "markdown",
   "id": "de117cc0",
   "metadata": {},
   "source": [
    "Write a function csvutil(argv) that parses arguments like:\n",
    "--convert, --print, --table\n",
    "and just prints which option was selected.\n",
    "Use argparse."
   ]
  },
  {
   "cell_type": "markdown",
   "id": "32bb38d1",
   "metadata": {},
   "source": [
    "Update csvutil so that with --convert it reads the CSV file \n",
    "and writes a JSON file with the same name but .json extension."
   ]
  },
  {
   "cell_type": "code",
   "execution_count": 22,
   "id": "f73b2e7d",
   "metadata": {},
   "outputs": [],
   "source": [
    "def csvutil(argv):\n",
    "    import argparse\n",
    "    import csv\n",
    "    import json\n",
    "    import os\n",
    "    parser = argparse.ArgumentParser(description='CSV Utility Demo')\n",
    "    parser.add_argument('csvfile', help='Path to CSV file')\n",
    "    parser.add_argument('--convert', action='store_true', help='Convert CSV to JSON and save to .json file')\n",
    "    parser.add_argument('--print', action='store_true', help='Pretty print CSV as JSON')\n",
    "    parser.add_argument('--table', action='store_true', help='Display CSV as ASCII table')\n",
    "    parser.add_argument('--filter', metavar='COLUMN=VALUE', type=str, help='Only include rows where COLUMN equals VALUE')\n",
    "    parser.add_argument('--summary', action='store_true', help='Print min, max, and average for numeric columns')\n",
    "    args = parser.parse_args(argv)\n",
    "\n",
    "    # Normalize filter argument to support both '--filter=city=Boston' and '--filter', 'city=Boston'\n",
    "    filter_value = None\n",
    "    for i, arg in enumerate(argv):\n",
    "        if arg.startswith('--filter='):\n",
    "            filter_value = arg.split('=', 1)[1]\n",
    "        elif arg == '--filter' and i+1 < len(argv):\n",
    "            filter_value = argv[i+1]\n",
    "    if filter_value is None:\n",
    "        filter_value = args.filter\n",
    "\n",
    "    # Always read the CSV if any action is requested\n",
    "    data = None\n",
    "    if args.convert or args.print or args.table or args.summary:\n",
    "        with open(args.csvfile, newline='', encoding='utf-8') as f:\n",
    "            reader = csv.DictReader(f)\n",
    "            data = list(reader)\n",
    "\n",
    "    # Apply filter if specified\n",
    "    if filter_value and data is not None:\n",
    "        if '=' in filter_value:\n",
    "            col, val = filter_value.split('=', 1)\n",
    "            data = [row for row in data if row.get(col) == val]\n",
    "        else:\n",
    "            print('Invalid --filter format. Use --filter column=value')\n",
    "            return\n",
    "\n",
    "    if args.convert:\n",
    "        json_path = os.path.splitext(args.csvfile)[0] + '.json'\n",
    "        with open(json_path, 'w', encoding='utf-8') as f:\n",
    "            json.dump(data, f, indent=2, ensure_ascii=False)\n",
    "        print(f'Converted {args.csvfile} to {json_path}')\n",
    "    if args.print:\n",
    "        print(json.dumps(data, indent=2, ensure_ascii=False))\n",
    "    if args.table:\n",
    "        from tabulate import tabulate\n",
    "        if data:\n",
    "            print(tabulate(data, headers='keys', tablefmt='grid'))\n",
    "        else:\n",
    "            print('No data to display.')\n",
    "    if args.summary:\n",
    "        if not data:\n",
    "            print('No data to summarize.')\n",
    "            return\n",
    "        numeric_cols = []\n",
    "        # Find numeric columns\n",
    "        for key in data[0].keys():\n",
    "            try:\n",
    "                float(data[0][key])\n",
    "                numeric_cols.append(key)\n",
    "            except (ValueError, TypeError):\n",
    "                continue\n",
    "        if not numeric_cols:\n",
    "            print('No numeric columns found.')\n",
    "            return\n",
    "        print('Summary statistics:')\n",
    "        for col in numeric_cols:\n",
    "            values = []\n",
    "            for row in data:\n",
    "                try:\n",
    "                    values.append(float(row[col]))\n",
    "                except (ValueError, TypeError):\n",
    "                    continue\n",
    "            if values:\n",
    "                print(f\"{col}: min={min(values)}, max={max(values)}, avg={sum(values)/len(values):.2f}\")\n",
    "            else:\n",
    "                print(f\"{col}: No valid numeric data.\")\n",
    "    if not (args.convert or args.print or args.table or args.summary):\n",
    "        print('No option selected.')"
   ]
  },
  {
   "cell_type": "code",
   "execution_count": 18,
   "id": "35838861",
   "metadata": {},
   "outputs": [
    {
     "name": "stdout",
     "output_type": "stream",
     "text": [
      "Converted data.csv to data.json\n"
     ]
    }
   ],
   "source": [
    "csvutil(['data.csv', '--convert'])"
   ]
  },
  {
   "cell_type": "markdown",
   "id": "0219bab3",
   "metadata": {},
   "source": [
    "Add support for --print to pretty print the CSV data as JSON to stdout.\n"
   ]
  },
  {
   "cell_type": "code",
   "execution_count": 19,
   "id": "557991c6",
   "metadata": {},
   "outputs": [
    {
     "name": "stdout",
     "output_type": "stream",
     "text": [
      "[\n",
      "  {\n",
      "    \"name\": \"Alice\",\n",
      "    \"age\": \"30\",\n",
      "    \"city\": \"New York\"\n",
      "  },\n",
      "  {\n",
      "    \"name\": \"Bob\",\n",
      "    \"age\": \"25\",\n",
      "    \"city\": \"San Francisco\"\n",
      "  },\n",
      "  {\n",
      "    \"name\": \"Charlie\",\n",
      "    \"age\": \"35\",\n",
      "    \"city\": \"Chicago\"\n",
      "  },\n",
      "  {\n",
      "    \"name\": \"Diana\",\n",
      "    \"age\": \"28\",\n",
      "    \"city\": \"Seattle\"\n",
      "  },\n",
      "  {\n",
      "    \"name\": \"Ethan\",\n",
      "    \"age\": \"40\",\n",
      "    \"city\": \"Boston\"\n",
      "  }\n",
      "]\n"
     ]
    }
   ],
   "source": [
    "csvutil(['data.csv', '--print'])"
   ]
  },
  {
   "cell_type": "markdown",
   "id": "4ae610fc",
   "metadata": {},
   "source": [
    "Add optional argument --filter column=value so that only rows matching that filter are included."
   ]
  },
  {
   "cell_type": "code",
   "execution_count": 20,
   "id": "219e3e45",
   "metadata": {},
   "outputs": [
    {
     "name": "stdout",
     "output_type": "stream",
     "text": [
      "Test with --filter=city=Boston\n",
      "[\n",
      "  {\n",
      "    \"name\": \"Ethan\",\n",
      "    \"age\": \"40\",\n",
      "    \"city\": \"Boston\"\n",
      "  }\n",
      "]\n",
      "\n",
      "Test with --filter city=Boston\n",
      "[\n",
      "  {\n",
      "    \"name\": \"Ethan\",\n",
      "    \"age\": \"40\",\n",
      "    \"city\": \"Boston\"\n",
      "  }\n",
      "]\n"
     ]
    }
   ],
   "source": [
    "# Test csvutil with --filter argument (should work with both forms)\n",
    "print('Test with --filter=city=Boston')\n",
    "csvutil(['data.csv', '--print', '--filter=city=Boston'])\n",
    "print('\\nTest with --filter city=Boston')\n",
    "csvutil(['data.csv', '--print', '--filter', 'city=Boston'])"
   ]
  },
  {
   "cell_type": "markdown",
   "id": "072cd5d6",
   "metadata": {},
   "source": [
    "Add a --summary option that prints min, max, and average for numeric columns.\n"
   ]
  },
  {
   "cell_type": "code",
   "execution_count": 23,
   "id": "34ce025a",
   "metadata": {},
   "outputs": [
    {
     "name": "stdout",
     "output_type": "stream",
     "text": [
      "Summary statistics:\n",
      "age: min=25.0, max=40.0, avg=31.60\n"
     ]
    }
   ],
   "source": [
    "csvutil(['data.csv', '--summary'])"
   ]
  }
 ],
 "metadata": {
  "kernelspec": {
   "display_name": "Python 3",
   "language": "python",
   "name": "python3"
  },
  "language_info": {
   "codemirror_mode": {
    "name": "ipython",
    "version": 3
   },
   "file_extension": ".py",
   "mimetype": "text/x-python",
   "name": "python",
   "nbconvert_exporter": "python",
   "pygments_lexer": "ipython3",
   "version": "3.13.6"
  }
 },
 "nbformat": 4,
 "nbformat_minor": 5
}
