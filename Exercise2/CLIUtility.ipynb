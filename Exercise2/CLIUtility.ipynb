{
 "cells": [
  {
   "cell_type": "markdown",
   "id": "31ce468d",
   "metadata": {},
   "source": [
    "Generate a python function for a command line utility to convert csv to json the function should be named csv_json"
   ]
  },
  {
   "cell_type": "code",
   "execution_count": null,
   "id": "83e47e7f",
   "metadata": {},
   "outputs": [
    {
     "name": "stdout",
     "output_type": "stream",
     "text": [
      "Usage: python script.py <input_csv> <output_json>\n"
     ]
    }
   ],
   "source": [
    "import csv\n",
    "import json\n",
    "import sys\n",
    "\n",
    "def csv_json(csv_file_path, json_file_path):\n",
    "    \"\"\"Convert a CSV file to JSON format.\n",
    "    Args:\n",
    "        csv_file_path (str): Path to the input CSV file.\n",
    "        json_file_path (str): Path to the output JSON file.\n",
    "    \"\"\"\n",
    "    with open(csv_file_path, mode='r', encoding='utf-8') as csv_file:\n",
    "        reader = csv.DictReader(csv_file)\n",
    "        rows = list(reader)\n",
    "    with open(json_file_path, mode='w', encoding='utf-8') as json_file:\n",
    "        json.dump(rows, json_file, indent=4)\n",
    "\n",
    "# Example usage for CLI: python script.py input.csv output.json\n",
    "if __name__ == \"__main__\":\n",
    "    if len(sys.argv) != 3:\n",
    "        print(\"Usage: python script.py <input_csv> <output_json>\")\n",
    "    else:\n",
    "        csv_json(sys.argv[1], sys.argv[2])"
   ]
  },
  {
   "cell_type": "markdown",
   "id": "df74742f",
   "metadata": {},
   "source": [
    "Generate a print_json function that prints the output when --print command is used"
   ]
  },
  {
   "cell_type": "code",
   "execution_count": 4,
   "id": "8fe3cce4",
   "metadata": {},
   "outputs": [
    {
     "name": "stdout",
     "output_type": "stream",
     "text": [
      "Usage: python script.py <input_csv> <output_json> [--print]\n"
     ]
    }
   ],
   "source": [
    "def print_json(json_file_path):\n",
    "    \"\"\"Print the contents of a JSON file to the screen.\"\"\"\n",
    "    with open(json_file_path, 'r', encoding='utf-8') as f:\n",
    "        data = json.load(f)\n",
    "    print(json.dumps(data, indent=4))\n",
    "\n",
    "# Example usage for CLI:\n",
    "# python script.py input.csv output.json --print\n",
    "if __name__ == \"__main__\":\n",
    "    if len(sys.argv) < 3:\n",
    "        print(\"Usage: python script.py <input_csv> <output_json> [--print]\")\n",
    "    else:\n",
    "        csv_json(sys.argv[1], sys.argv[2])\n",
    "        if len(sys.argv) > 3 and sys.argv[3] == \"--print\":\n",
    "            print_json(sys.argv[2])"
   ]
  },
  {
   "cell_type": "code",
   "execution_count": null,
   "id": "6b52146e",
   "metadata": {},
   "outputs": [],
   "source": [
    "def print_json_table(json_file_path):\n",
    "    \"\"\"Print the contents of a JSON file as a table.\"\"\"\n",
    "    import json\n",
    "    from tabulate import tabulate\n",
    "    with open(json_file_path, 'r', encoding='utf-8') as f:\n",
    "        data = json.load(f)\n",
    "    if isinstance(data, list) and data:\n",
    "        print(tabulate(data, headers=\"keys\", tablefmt=\"grid\"))\n",
    "    else:\n",
    "        print(\"No data to display as table.\")\n",
    "\n",
    "# Update CLI logic to support --table command\n",
    "if __name__ == \"__main__\":\n",
    "    if len(sys.argv) < 3:\n",
    "        print(\"Usage: python script.py <input_csv> <output_json> [--print|--table]\")\n",
    "    else:\n",
    "        csv_json(sys.argv[1], sys.argv[2])\n",
    "        if len(sys.argv) > 3:\n",
    "            if sys.argv[3] == \"--print\":\n",
    "                print_json(sys.argv[2])\n",
    "            elif sys.argv[3] == \"--table\":\n",
    "                try:\n",
    "                    from tabulate import tabulate\n",
    "                except ImportError:\n",
    "                    print(\"Installing tabulate module...\")\n",
    "                    import subprocess\n",
    "                    subprocess.check_call([sys.executable, \"-m\", \"pip\", \"install\", \"tabulate\"])\n",
    "                    from tabulate import tabulate\n",
    "                print_json_table(sys.argv[2])"
   ]
  },
  {
   "cell_type": "markdown",
   "id": "d56c4af1",
   "metadata": {},
   "source": [
    "Generate a csv file with mock data"
   ]
  },
  {
   "cell_type": "code",
   "execution_count": null,
   "id": "f2faeebb",
   "metadata": {},
   "outputs": [],
   "source": [
    "# Generate simple CSV mock data for testing\n",
    "import csv\n",
    "\n",
    "mock_csv_path = \"mock_data.csv\"\n",
    "mock_data = [\n",
    "    {\"name\": \"Alice\", \"age\": 30, \"city\": \"New York\"},\n",
    "    {\"name\": \"Bob\", \"age\": 25, \"city\": \"Los Angeles\"},\n",
    "    {\"name\": \"Charlie\", \"age\": 35, \"city\": \"Chicago\"}\n",
    " ]\n",
    "\n",
    "with open(mock_csv_path, mode='w', newline='', encoding='utf-8') as file:\n",
    "    writer = csv.DictWriter(file, fieldnames=[\"name\", \"age\", \"city\"])\n",
    "    writer.writeheader()\n",
    "    writer.writerows(mock_data)\n",
    "\n",
    "print(f\"Mock CSV data written to {mock_csv_path}\")"
   ]
  },
  {
   "cell_type": "markdown",
   "id": "73842300",
   "metadata": {},
   "source": [
    "Write a main function to test the code of csv_json and --print"
   ]
  },
  {
   "cell_type": "code",
   "execution_count": 5,
   "id": "e5dafc45",
   "metadata": {},
   "outputs": [
    {
     "name": "stdout",
     "output_type": "stream",
     "text": [
      "CSV to JSON conversion complete. JSON output:\n",
      "[\n",
      "    {\n",
      "        \"name\": \"Alice\",\n",
      "        \"age\": \"30\",\n",
      "        \"city\": \"New York\"\n",
      "    },\n",
      "    {\n",
      "        \"name\": \"Bob\",\n",
      "        \"age\": \"25\",\n",
      "        \"city\": \"Los Angeles\"\n",
      "    },\n",
      "    {\n",
      "        \"name\": \"Charlie\",\n",
      "        \"age\": \"35\",\n",
      "        \"city\": \"Chicago\"\n",
      "    }\n",
      "]\n"
     ]
    }
   ],
   "source": [
    "# Main function to test csv_json and --print command automatically\n",
    "def main_test():\n",
    "    csv_file = \"mock_data.csv\"\n",
    "    json_file = \"mock_data.json\"\n",
    "    # Convert CSV to JSON\n",
    "    csv_json(csv_file, json_file)\n",
    "    print(\"CSV to JSON conversion complete. JSON output:\")\n",
    "    # Print JSON output (simulating --print)\n",
    "    print_json(json_file)\n",
    "\n",
    "# Run the test\n",
    "main_test()"
   ]
  },
  {
   "cell_type": "markdown",
   "id": "37bea90f",
   "metadata": {},
   "source": [
    "Generate a function to use --table option to display the data as a table"
   ]
  },
  {
   "cell_type": "code",
   "execution_count": 6,
   "id": "0ab0aa80",
   "metadata": {},
   "outputs": [],
   "source": [
    "# Function to display JSON data as a table (for notebook usage)\n",
    "def display_json_table(json_file_path):\n",
    "    try:\n",
    "        from tabulate import tabulate\n",
    "    except ImportError:\n",
    "        import sys, subprocess\n",
    "        print(\"Installing tabulate module...\")\n",
    "        subprocess.check_call([sys.executable, \"-m\", \"pip\", \"install\", \"tabulate\"])\n",
    "        from tabulate import tabulate\n",
    "    import json\n",
    "    with open(json_file_path, 'r', encoding='utf-8') as f:\n",
    "        data = json.load(f)\n",
    "    if isinstance(data, list) and data:\n",
    "        print(tabulate(data, headers=\"keys\", tablefmt=\"grid\"))\n",
    "    else:\n",
    "        print(\"No data to display as table.\")"
   ]
  },
  {
   "cell_type": "code",
   "execution_count": null,
   "id": "f4180666",
   "metadata": {},
   "outputs": [],
   "source": []
  }
 ],
 "metadata": {
  "kernelspec": {
   "display_name": "Python 3",
   "language": "python",
   "name": "python3"
  },
  "language_info": {
   "codemirror_mode": {
    "name": "ipython",
    "version": 3
   },
   "file_extension": ".py",
   "mimetype": "text/x-python",
   "name": "python",
   "nbconvert_exporter": "python",
   "pygments_lexer": "ipython3",
   "version": "3.13.6"
  }
 },
 "nbformat": 4,
 "nbformat_minor": 5
}
