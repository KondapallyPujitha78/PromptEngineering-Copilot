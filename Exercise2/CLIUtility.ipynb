{
 "cells": [
  {
   "cell_type": "markdown",
   "id": "31ce468d",
   "metadata": {},
   "source": [
    "Generate a python function for a command line utility to convert csv to json the function should be named csv_json"
   ]
  },
  {
   "cell_type": "code",
   "execution_count": 1,
   "id": "83e47e7f",
   "metadata": {},
   "outputs": [
    {
     "name": "stdout",
     "output_type": "stream",
     "text": [
      "Usage: python script.py <input_csv> <output_json>\n"
     ]
    }
   ],
   "source": [
    "import csv\n",
    "import json\n",
    "import sys\n",
    "\n",
    "def csv_json(csv_file_path, json_file_path):\n",
    "    \"\"\"Convert a CSV file to JSON format.\n",
    "    Args:\n",
    "        csv_file_path (str): Path to the input CSV file.\n",
    "        json_file_path (str): Path to the output JSON file.\n",
    "    \"\"\"\n",
    "    with open(csv_file_path, mode='r', encoding='utf-8') as csv_file:\n",
    "        reader = csv.DictReader(csv_file)\n",
    "        rows = list(reader)\n",
    "    with open(json_file_path, mode='w', encoding='utf-8') as json_file:\n",
    "        json.dump(rows, json_file, indent=4)\n",
    "\n",
    "# Example usage for CLI: python script.py input.csv output.json\n",
    "if __name__ == \"__main__\":\n",
    "    if len(sys.argv) != 3:\n",
    "        print(\"Usage: python script.py <input_csv> <output_json>\")\n",
    "    else:\n",
    "        csv_json(sys.argv[1], sys.argv[2])"
   ]
  },
  {
   "cell_type": "code",
   "execution_count": null,
   "id": "8fe3cce4",
   "metadata": {},
   "outputs": [],
   "source": []
  }
 ],
 "metadata": {
  "kernelspec": {
   "display_name": "Python 3",
   "language": "python",
   "name": "python3"
  },
  "language_info": {
   "codemirror_mode": {
    "name": "ipython",
    "version": 3
   },
   "file_extension": ".py",
   "mimetype": "text/x-python",
   "name": "python",
   "nbconvert_exporter": "python",
   "pygments_lexer": "ipython3",
   "version": "3.13.6"
  }
 },
 "nbformat": 4,
 "nbformat_minor": 5
}
