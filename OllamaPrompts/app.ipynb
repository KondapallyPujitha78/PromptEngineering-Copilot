{
 "cells": [
  {
   "cell_type": "code",
   "execution_count": 1,
   "id": "91f4945c",
   "metadata": {},
   "outputs": [
    {
     "name": "stdout",
     "output_type": "stream",
     "text": [
      "Collecting ollama\n",
      "  Downloading ollama-0.5.3-py3-none-any.whl.metadata (4.3 kB)\n",
      "Collecting httpx>=0.27 (from ollama)\n",
      "  Downloading httpx-0.28.1-py3-none-any.whl.metadata (7.1 kB)\n",
      "Collecting pydantic>=2.9 (from ollama)\n",
      "  Downloading pydantic-2.11.7-py3-none-any.whl.metadata (67 kB)\n",
      "Collecting anyio (from httpx>=0.27->ollama)\n",
      "  Downloading anyio-4.10.0-py3-none-any.whl.metadata (4.0 kB)\n",
      "Collecting certifi (from httpx>=0.27->ollama)\n",
      "  Downloading certifi-2025.8.3-py3-none-any.whl.metadata (2.4 kB)\n",
      "Collecting httpcore==1.* (from httpx>=0.27->ollama)\n",
      "  Downloading httpcore-1.0.9-py3-none-any.whl.metadata (21 kB)\n",
      "Collecting idna (from httpx>=0.27->ollama)\n",
      "  Downloading idna-3.10-py3-none-any.whl.metadata (10 kB)\n",
      "Collecting h11>=0.16 (from httpcore==1.*->httpx>=0.27->ollama)\n",
      "  Downloading h11-0.16.0-py3-none-any.whl.metadata (8.3 kB)\n",
      "Collecting annotated-types>=0.6.0 (from pydantic>=2.9->ollama)\n",
      "  Downloading annotated_types-0.7.0-py3-none-any.whl.metadata (15 kB)\n",
      "Collecting pydantic-core==2.33.2 (from pydantic>=2.9->ollama)\n",
      "  Downloading pydantic_core-2.33.2-cp313-cp313-win_amd64.whl.metadata (6.9 kB)\n",
      "Collecting typing-extensions>=4.12.2 (from pydantic>=2.9->ollama)\n",
      "  Downloading typing_extensions-4.14.1-py3-none-any.whl.metadata (3.0 kB)\n",
      "Collecting typing-inspection>=0.4.0 (from pydantic>=2.9->ollama)\n",
      "  Downloading typing_inspection-0.4.1-py3-none-any.whl.metadata (2.6 kB)\n",
      "Collecting sniffio>=1.1 (from anyio->httpx>=0.27->ollama)\n",
      "  Downloading sniffio-1.3.1-py3-none-any.whl.metadata (3.9 kB)\n",
      "Downloading ollama-0.5.3-py3-none-any.whl (13 kB)\n",
      "Downloading httpx-0.28.1-py3-none-any.whl (73 kB)\n",
      "Downloading httpcore-1.0.9-py3-none-any.whl (78 kB)\n",
      "Downloading h11-0.16.0-py3-none-any.whl (37 kB)\n",
      "Downloading pydantic-2.11.7-py3-none-any.whl (444 kB)\n",
      "Downloading pydantic_core-2.33.2-cp313-cp313-win_amd64.whl (2.0 MB)\n",
      "   ---------------------------------------- 0.0/2.0 MB ? eta -:--:--\n",
      "   ---------------------------------------- 2.0/2.0 MB 15.8 MB/s  0:00:00\n",
      "Downloading annotated_types-0.7.0-py3-none-any.whl (13 kB)\n",
      "Downloading typing_extensions-4.14.1-py3-none-any.whl (43 kB)\n",
      "Downloading typing_inspection-0.4.1-py3-none-any.whl (14 kB)\n",
      "Downloading anyio-4.10.0-py3-none-any.whl (107 kB)\n",
      "Downloading idna-3.10-py3-none-any.whl (70 kB)\n",
      "Downloading sniffio-1.3.1-py3-none-any.whl (10 kB)\n",
      "Downloading certifi-2025.8.3-py3-none-any.whl (161 kB)\n",
      "Installing collected packages: typing-extensions, sniffio, idna, h11, certifi, annotated-types, typing-inspection, pydantic-core, httpcore, anyio, pydantic, httpx, ollama\n",
      "\n",
      "   --------- ------------------------------  3/13 [h11]\n",
      "   --------------------- ------------------  7/13 [pydantic-core]\n",
      "   ------------------------ ---------------  8/13 [httpcore]\n",
      "   --------------------------- ------------  9/13 [anyio]\n",
      "   ------------------------------ --------- 10/13 [pydantic]\n",
      "   ------------------------------ --------- 10/13 [pydantic]\n",
      "   ------------------------------ --------- 10/13 [pydantic]\n",
      "   --------------------------------- ------ 11/13 [httpx]\n",
      "   ---------------------------------------- 13/13 [ollama]\n",
      "\n",
      "Successfully installed annotated-types-0.7.0 anyio-4.10.0 certifi-2025.8.3 h11-0.16.0 httpcore-1.0.9 httpx-0.28.1 idna-3.10 ollama-0.5.3 pydantic-2.11.7 pydantic-core-2.33.2 sniffio-1.3.1 typing-extensions-4.14.1 typing-inspection-0.4.1\n"
     ]
    }
   ],
   "source": [
    "!pip install ollama"
   ]
  },
  {
   "cell_type": "code",
   "execution_count": 6,
   "id": "65b89c0b",
   "metadata": {},
   "outputs": [
    {
     "name": "stdout",
     "output_type": "stream",
     "text": [
      "The sky appears blue because of a phenomenon called Rayleigh scattering, named after the British physicist Lord Rayleigh, who first described it in the late 19th century.\n",
      "\n",
      "Here's what happens:\n",
      "\n",
      "1. **Sunlight enters Earth's atmosphere**: When sunlight from the sun enters our atmosphere, it encounters tiny molecules of gases such as nitrogen (N2) and oxygen (O2).\n",
      "2. **Scattering occurs**: These gas molecules scatter the light in all directions, but they do so more efficiently with shorter wavelengths than longer ones.\n",
      "3. **Blue light is scattered most**: The blue light from the sun has a shorter wavelength (around 450-495 nanometers) compared to other colors of visible light. As a result, it is scattered in all directions by the tiny molecules in the atmosphere, making it more intense and visible to our eyes.\n",
      "\n",
      "When we look up at the sky on a clear day, our line of sight is filled with this scattered blue light, which gives the appearance of a blue sky. The longer wavelengths of red and orange light are not scattered as much, so they continue traveling in a straight line and reach our eyes from more distant parts of the atmosphere.\n",
      "\n",
      "This scattering effect is most pronounced during the daytime when the sun is overhead, and it's why we see a blue sky with some white clouds (which reflect sunlight). The color of the sky can also change at different times of day, due to the changing angle of the sun and the amount of light that scatters in our direction.\n",
      "\n",
      "Interestingly, the exact shade of blue we see can vary depending on factors like atmospheric conditions, pollution levels, and even the time of year. But fundamentally, the scattering of shorter wavelengths (like blue light) is what makes the sky appear blue!\n",
      "\n",
      "Do you have any follow-up questions or would you like to know more about related topics?\n",
      "The sky appears blue because of a phenomenon called Rayleigh scattering, named after the British physicist Lord Rayleigh, who first described it in the late 19th century.\n",
      "\n",
      "Here's what happens:\n",
      "\n",
      "1. **Sunlight enters Earth's atmosphere**: When sunlight from the sun enters our atmosphere, it encounters tiny molecules of gases such as nitrogen (N2) and oxygen (O2).\n",
      "2. **Scattering occurs**: These gas molecules scatter the light in all directions, but they do so more efficiently with shorter wavelengths than longer ones.\n",
      "3. **Blue light is scattered most**: The blue light from the sun has a shorter wavelength (around 450-495 nanometers) compared to other colors of visible light. As a result, it is scattered in all directions by the tiny molecules in the atmosphere, making it more intense and visible to our eyes.\n",
      "\n",
      "When we look up at the sky on a clear day, our line of sight is filled with this scattered blue light, which gives the appearance of a blue sky. The longer wavelengths of red and orange light are not scattered as much, so they continue traveling in a straight line and reach our eyes from more distant parts of the atmosphere.\n",
      "\n",
      "This scattering effect is most pronounced during the daytime when the sun is overhead, and it's why we see a blue sky with some white clouds (which reflect sunlight). The color of the sky can also change at different times of day, due to the changing angle of the sun and the amount of light that scatters in our direction.\n",
      "\n",
      "Interestingly, the exact shade of blue we see can vary depending on factors like atmospheric conditions, pollution levels, and even the time of year. But fundamentally, the scattering of shorter wavelengths (like blue light) is what makes the sky appear blue!\n",
      "\n",
      "Do you have any follow-up questions or would you like to know more about related topics?\n"
     ]
    }
   ],
   "source": [
    "from ollama import chat\n",
    "from ollama import ChatResponse\n",
    "\n",
    "response: ChatResponse = chat(model='llama3.1:8b', messages=[\n",
    "  {\n",
    "    'role': 'user',\n",
    "    'content': 'Why is the sky blue?',\n",
    "  },\n",
    "])\n",
    "print(response['message']['content'])\n",
    "# or access fields directly from the response object\n",
    "print(response.message.content)"
   ]
  },
  {
   "cell_type": "code",
   "execution_count": null,
   "id": "9160681d",
   "metadata": {},
   "outputs": [],
   "source": []
  }
 ],
 "metadata": {
  "kernelspec": {
   "display_name": "Python 3",
   "language": "python",
   "name": "python3"
  },
  "language_info": {
   "codemirror_mode": {
    "name": "ipython",
    "version": 3
   },
   "file_extension": ".py",
   "mimetype": "text/x-python",
   "name": "python",
   "nbconvert_exporter": "python",
   "pygments_lexer": "ipython3",
   "version": "3.13.6"
  }
 },
 "nbformat": 4,
 "nbformat_minor": 5
}
